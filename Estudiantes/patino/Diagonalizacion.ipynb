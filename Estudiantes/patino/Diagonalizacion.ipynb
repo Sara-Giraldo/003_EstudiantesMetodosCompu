{
 "cells": [
  {
   "cell_type": "code",
   "execution_count": 5,
   "metadata": {},
   "outputs": [],
   "source": [
    "import numpy as np\n",
    "import matplotlib.pylab as plt\n",
    "from numba import njit\n",
    "import plotly.graph_objects as go"
   ]
  },
  {
   "cell_type": "markdown",
   "metadata": {},
   "source": [
    "3. **Diagonalización**.\n",
    "\n",
    "Se sabe que un sistema físico es gobernado por las ecuaciones,\n",
    "\n",
    "\n",
    "\n",
    "$$\n",
    "\\begin{matrix}\n",
    "x' &=& 2x&-y&+z, \\\\\n",
    "y' &=&   &3y&-1z, \\\\\n",
    "z' &=& 2x&+y&+3z,\n",
    "\\end{matrix}\n",
    "$$\n",
    "\n",
    "donde $x',y',z'$ son las derivadas, en forma vectorial esto se puede representar como $\\mathbf{r}'=A\\mathbf{r}$ que tiene solución analítica general, $\\mathbf{r} = e^{At} \\mathbf{r}(0)$.<br>\n",
    "a) Diagonalize $A$.<br>"
   ]
  },
  {
   "cell_type": "code",
   "execution_count": null,
   "metadata": {},
   "outputs": [
    {
     "name": "stdout",
     "output_type": "stream",
     "text": [
      "Matriz A:\n",
      "[[ 2 -1  1]\n",
      " [ 0  3 -1]\n",
      " [ 2  1  3]]\n",
      "\n",
      "Valores propios:\n",
      "[4.+0.00000000e+00j 2.+1.68652966e-08j 2.-1.68652966e-08j]\n",
      "\n",
      "Matriz de vectores propios P:\n",
      "[[-0.57735027+0.00000000e+00j -0.57735027+9.73718355e-09j\n",
      "  -0.57735027-9.73718355e-09j]\n",
      " [ 0.57735027+0.00000000e+00j  0.57735027+0.00000000e+00j\n",
      "   0.57735027-0.00000000e+00j]\n",
      " [-0.57735027+0.00000000e+00j  0.57735027-9.73718355e-09j\n",
      "   0.57735027+9.73718355e-09j]]\n",
      "\n",
      "Matriz diagonal D:\n",
      "[[4.+0.00000000e+00j 0.+0.00000000e+00j 0.+0.00000000e+00j]\n",
      " [0.+0.00000000e+00j 2.+1.68652966e-08j 0.+0.00000000e+00j]\n",
      " [0.+0.00000000e+00j 0.+0.00000000e+00j 2.-1.68652966e-08j]]\n",
      "\n",
      "Verificación A = P D P^-1:\n",
      "[[ 2.00000000e+00+4.22907063e-10j -1.00000000e+00+4.22907063e-10j\n",
      "   1.00000000e+00-2.16182500e-24j]\n",
      " [ 1.88737914e-15-4.45946263e-10j  3.00000000e+00-4.45946263e-10j\n",
      "  -1.00000000e+00-1.79300708e-24j]\n",
      " [ 2.00000000e+00+2.91325159e-11j  1.00000000e+00+2.91325159e-11j\n",
      "   3.00000000e+00+1.30125162e-24j]]\n"
     ]
    }
   ],
   "source": [
    "A = np.array([[2, -1, 1], [0, 3, -1], [2, 1, 3]])\n",
    "eigvals, eigvecs = np.linalg.eig(A) \n",
    "D = np.diag(eigvals) #matrix de valores propios\n",
    "P = eigvecs          #matriz de vectores propios\n",
    "A_reconstructed = np.array( P @ D @ np.linalg.inv(P))\n",
    "\n",
    "print(\"Matriz A:\")\n",
    "print(A)\n",
    "print(\"\\nValores propios:\")\n",
    "print(eigvals)\n",
    "print(\"\\nMatriz de vectores propios P:\")\n",
    "print(P)\n",
    "print(\"\\nMatriz diagonal D:\")\n",
    "print(D)\n",
    "print(\"\\nVerificación A = P D P^-1:\")\n",
    "print(A_reconstructed)"
   ]
  },
  {
   "cell_type": "markdown",
   "metadata": {},
   "source": [
    "# Actividad:\n",
    "\n",
    "1. Construir un programa que permita multiplicar dos matrices\n",
    "\n",
    "2. Cosntruir un programa que permita construir una regresion lineal simple empleando lo que sigue:\n",
    "\n",
    "3. Construir un programa que permita calcular una regresion bidimensional y hacer su representación .\n",
    "\n",
    "\n",
    "Operaciones matricial con regresión lineal.\n",
    "\n",
    "Cuando se desea hacer una regresion lineal multivariada, existen diferentes formas de realizar la regresión, una de ellas es encontrar el error cuadrático medio y miniminzar el conjunto de parámetros de la regresión emplando algún metodo de minimización, otra forma es encontrar la expresión analítica en forma matricial para enoncontrar el conjunto de parametros de la regresión. En este último caso, la regresion lineal viene dada por la siguiente expresion generalizada:\n",
    "\n",
    "\n",
    "- $\\Theta = (X^T X)^{-1} X^T y$\n",
    "\n",
    "donte $\\Theta$ es la matriz de parametros asociados a la regresión lineal, X la matriz de características y y los valos esperados, así, si tenemos una conjunto de datos en N dimensiones la recta, plano o hyperplano puede ser calculado como:\n",
    "\n",
    "$Y=\\Theta^T X$\n",
    "\n",
    "\n",
    "En el caso de dos dimensiones, tenemos lo siguiente, Supongamos que X, y Y presentan un comportamiento lineal, y vienen dados por:\n",
    "\n",
    "\n",
    "- Sea $\\vec{X}=x^1, x^2, x^3, x^4, ..., x^m$\n",
    "- Sea $\\vec{Y}=y^1, y^2, y^3, y^4, ..., y^m$\n",
    "\n",
    "Para determinar la ecuacion de la recta, hay que conocer los párametros $\\theta_0 $, $\\theta_1$, que cumplen que :   $y^{i} = \\theta_1 x^{i} + \\theta_0$ la anterior expresion puede ser escrita como:\n",
    "\n",
    "\\begin{equation}\n",
    "\\begin{bmatrix}\n",
    "y^{1}\\\\\n",
    "y^{2}\\\\\n",
    "\\vdots\\\\\n",
    "y^{m}\\\\\n",
    "\\end{bmatrix}=\n",
    "\\begin{bmatrix}\n",
    "\\theta_0 & \\theta_1 \\\\\n",
    "\\end{bmatrix}\n",
    "\\begin{bmatrix}\n",
    "1 & 1 & \\cdots & 1 \\\\\n",
    "x_1^{1} & x_1^{2} & \\cdots & x_1^{m} \\\\\n",
    "\\end{bmatrix}\n",
    "\\end{equation}\n",
    "\n",
    "\n",
    "Para determinar la matriz de theta entonces se puede aplicar la ecuación:\n",
    "\n",
    "- $\\Theta = (X^T X)^{-1} X^T y$\n",
    "\n",
    "donde:\n",
    "\\begin{equation}\n",
    "X=\n",
    "\\begin{bmatrix}\n",
    "1 & x_1^{1} \\\\\n",
    "1 & x_1^{2} \\\\\n",
    "\\vdots & \\vdots \\\\\n",
    "1 & x_1^{m}\n",
    "\\end{bmatrix}\n",
    "\\end{equation}\n",
    "\n",
    "y\n",
    "\n",
    "\n",
    "\\begin{equation}\n",
    "y=\n",
    "\\begin{bmatrix}\n",
    "y^1 \\\\\n",
    "y^2 \\\\\n",
    "\\vdots\\\\\n",
    "y^m\n",
    "\\end{bmatrix}\n",
    "\\end{equation}\n",
    "\n",
    "Su tarea será construir un programa que realice la regresión lineal para los siguientes puntos:\n",
    "```python\n",
    "N = 10\n",
    "x1 = np.linspace(0, 10, N)\n",
    "noise=2*np.random.random(N)-1\n",
    "y = 0.9*x1 + noise\n",
    "```\n",
    "\n",
    "\n",
    "\n",
    "Generalice para el siguiente problema bidimensional:\n",
    "\n",
    "\n",
    "```python\n",
    "N = 10\n",
    "x1 = np.linspace(-1, 1, N)\n",
    "x2 = np.linspace(-2, 2, N)\n",
    "noise1=2*np.random.random(N)-1\n",
    "noise2=2*np.random.random(N)-1\n",
    "y = 2*(x1+noise1) - 3*(x2+noise2) + 0.0 #+ 4*np.random.random(100)\n",
    "\n",
    "N = 10\n",
    "X1, X2 = np.meshgrid(x1,x2)\n",
    "Y = 2*X1 - 3*X2 + 0.0\n",
    "fig, ax = plt.subplots(subplot_kw={\"projection\": \"3d\"})\n",
    "surf = ax.plot_surface(X1, X2, Y)\n",
    "#scatter = ax.scatter(x1, x2, y,\"-\")\n",
    "```\n",
    "\n",
    "\n",
    "\n",
    "4. Construir un programa que permita realizar eliminacion de Gauss- Jordan de una matriz"
   ]
  },
  {
   "cell_type": "code",
   "execution_count": null,
   "metadata": {},
   "outputs": [],
   "source": [
    "@njit\n",
    "def punto(a,b):\n",
    "  c=0\n",
    "  for i in range(0,len(a)):\n",
    "    c = c + a[i] * b[i]\n",
    "\n",
    "  return c\n",
    "\n",
    "@njit\n",
    "def multi(a,b):\n",
    "  b= np.transpose(b)\n",
    "  C = np.zeros((len(a),len(b)))\n",
    "\n",
    "  for i in range(len(a)):\n",
    "    for j in range(len(b)):\n",
    "\n",
    "      C[i][j] = punto(a[i],b[i])\n",
    "  return C\n",
    "\n",
    "#funciones sin njit\n",
    "def punto2(a,b):\n",
    "  c=0\n",
    "  for i in range(0,len(a)):\n",
    "    c = c + a[i] * b[i]\n",
    "\n",
    "  return c\n",
    "\n",
    "def multi2(a,b):\n",
    "  b = np.transpose(b)\n",
    "  C = np.zeros((len(a),len(b)))\n",
    "\n",
    "  for i in range(len(a)):\n",
    "    for j in range(len(b)):\n",
    "\n",
    "      C[i][j] = punto2(a[i],b[i])\n",
    "  return C"
   ]
  },
  {
   "cell_type": "code",
   "execution_count": 9,
   "metadata": {},
   "outputs": [
    {
     "name": "stdout",
     "output_type": "stream",
     "text": [
      "multiplicacion ordinaria\n",
      "767 μs ± 107 μs per loop (mean ± std. dev. of 7 runs, 1,000 loops each)\n",
      "\n",
      "multiplicacion numba\n",
      "393 μs ± 5.55 μs per loop (mean ± std. dev. of 7 runs, 1,000 loops each)\n",
      "\n",
      "multiplicacion sin numba\n",
      "165 ms ± 4.2 ms per loop (mean ± std. dev. of 7 runs, 10 loops each)\n"
     ]
    }
   ],
   "source": [
    "n = 100\n",
    "a = np.random.randint(10, size=(n, n))\n",
    "b = np.random.randint(10, size=(n, n))\n",
    "\n",
    "A= np.matrix(a)\n",
    "B= np.matrix(b)\n",
    "\n",
    "print(\"multiplicacion ordinaria\")\n",
    "%timeit A@B\n",
    "print()\n",
    "print(\"multiplicacion numba\")\n",
    "%timeit multi(a,b)\n",
    "print()\n",
    "print(\"multiplicacion sin numba\")\n",
    "%timeit multi2(a,b)"
   ]
  },
  {
   "cell_type": "markdown",
   "metadata": {},
   "source": [
    "regresion lineal:"
   ]
  },
  {
   "cell_type": "code",
   "execution_count": null,
   "metadata": {},
   "outputs": [
    {
     "data": {
      "application/vnd.plotly.v1+json": {
       "config": {
        "plotlyServerURL": "https://plot.ly"
       },
       "data": [
        {
         "colorscale": [
          [
           0,
           "#440154"
          ],
          [
           0.1111111111111111,
           "#482878"
          ],
          [
           0.2222222222222222,
           "#3e4989"
          ],
          [
           0.3333333333333333,
           "#31688e"
          ],
          [
           0.4444444444444444,
           "#26828e"
          ],
          [
           0.5555555555555556,
           "#1f9e89"
          ],
          [
           0.6666666666666666,
           "#35b779"
          ],
          [
           0.7777777777777778,
           "#6ece58"
          ],
          [
           0.8888888888888888,
           "#b5de2b"
          ],
          [
           1,
           "#fde725"
          ]
         ],
         "opacity": 0.7,
         "type": "surface",
         "x": {
          "bdata": "AAAAAAAA8L85juM4juPov3Icx3Ecx+G/VlVVVVVV1b8gx3Ecx3G8vyDHcRzHcbw/VFVVVVVV1T9wHMdxHMfhPziO4ziO4+g/AAAAAAAA8D8AAAAAAADwvzmO4ziO4+i/chzHcRzH4b9WVVVVVVXVvyDHcRzHcby/IMdxHMdxvD9UVVVVVVXVP3Acx3Ecx+E/OI7jOI7j6D8AAAAAAADwPwAAAAAAAPC/OY7jOI7j6L9yHMdxHMfhv1ZVVVVVVdW/IMdxHMdxvL8gx3Ecx3G8P1RVVVVVVdU/cBzHcRzH4T84juM4juPoPwAAAAAAAPA/AAAAAAAA8L85juM4juPov3Icx3Ecx+G/VlVVVVVV1b8gx3Ecx3G8vyDHcRzHcbw/VFVVVVVV1T9wHMdxHMfhPziO4ziO4+g/AAAAAAAA8D8AAAAAAADwvzmO4ziO4+i/chzHcRzH4b9WVVVVVVXVvyDHcRzHcby/IMdxHMdxvD9UVVVVVVXVP3Acx3Ecx+E/OI7jOI7j6D8AAAAAAADwPwAAAAAAAPC/OY7jOI7j6L9yHMdxHMfhv1ZVVVVVVdW/IMdxHMdxvL8gx3Ecx3G8P1RVVVVVVdU/cBzHcRzH4T84juM4juPoPwAAAAAAAPA/AAAAAAAA8L85juM4juPov3Icx3Ecx+G/VlVVVVVV1b8gx3Ecx3G8vyDHcRzHcbw/VFVVVVVV1T9wHMdxHMfhPziO4ziO4+g/AAAAAAAA8D8AAAAAAADwvzmO4ziO4+i/chzHcRzH4b9WVVVVVVXVvyDHcRzHcby/IMdxHMdxvD9UVVVVVVXVP3Acx3Ecx+E/OI7jOI7j6D8AAAAAAADwPwAAAAAAAPC/OY7jOI7j6L9yHMdxHMfhv1ZVVVVVVdW/IMdxHMdxvL8gx3Ecx3G8P1RVVVVVVdU/cBzHcRzH4T84juM4juPoPwAAAAAAAPA/AAAAAAAA8L85juM4juPov3Icx3Ecx+G/VlVVVVVV1b8gx3Ecx3G8vyDHcRzHcbw/VFVVVVVV1T9wHMdxHMfhPziO4ziO4+g/AAAAAAAA8D8=",
          "dtype": "f8",
          "shape": "10, 10"
         },
         "y": {
          "bdata": "AAAAAAAAAMAAAAAAAAAAwAAAAAAAAADAAAAAAAAAAMAAAAAAAAAAwAAAAAAAAADAAAAAAAAAAMAAAAAAAAAAwAAAAAAAAADAAAAAAAAAAMA5juM4juP4vzmO4ziO4/i/OY7jOI7j+L85juM4juP4vzmO4ziO4/i/OY7jOI7j+L85juM4juP4vzmO4ziO4/i/OY7jOI7j+L85juM4juP4v3Icx3Ecx/G/chzHcRzH8b9yHMdxHMfxv3Icx3Ecx/G/chzHcRzH8b9yHMdxHMfxv3Icx3Ecx/G/chzHcRzH8b9yHMdxHMfxv3Icx3Ecx/G/VlVVVVVV5b9WVVVVVVXlv1ZVVVVVVeW/VlVVVVVV5b9WVVVVVVXlv1ZVVVVVVeW/VlVVVVVV5b9WVVVVVVXlv1ZVVVVVVeW/VlVVVVVV5b8gx3Ecx3HMvyDHcRzHccy/IMdxHMdxzL8gx3Ecx3HMvyDHcRzHccy/IMdxHMdxzL8gx3Ecx3HMvyDHcRzHccy/IMdxHMdxzL8gx3Ecx3HMvyDHcRzHccw/IMdxHMdxzD8gx3Ecx3HMPyDHcRzHccw/IMdxHMdxzD8gx3Ecx3HMPyDHcRzHccw/IMdxHMdxzD8gx3Ecx3HMPyDHcRzHccw/VFVVVVVV5T9UVVVVVVXlP1RVVVVVVeU/VFVVVVVV5T9UVVVVVVXlP1RVVVVVVeU/VFVVVVVV5T9UVVVVVVXlP1RVVVVVVeU/VFVVVVVV5T9wHMdxHMfxP3Acx3Ecx/E/cBzHcRzH8T9wHMdxHMfxP3Acx3Ecx/E/cBzHcRzH8T9wHMdxHMfxP3Acx3Ecx/E/cBzHcRzH8T9wHMdxHMfxPziO4ziO4/g/OI7jOI7j+D84juM4juP4PziO4ziO4/g/OI7jOI7j+D84juM4juP4PziO4ziO4/g/OI7jOI7j+D84juM4juP4PziO4ziO4/g/AAAAAAAAAEAAAAAAAAAAQAAAAAAAAABAAAAAAAAAAEAAAAAAAAAAQAAAAAAAAABAAAAAAAAAAEAAAAAAAAAAQAAAAAAAAABAAAAAAAAAAEA=",
          "dtype": "f8",
          "shape": "10, 10"
         },
         "z": {
          "bdata": "AAAAAAAAEEByHMdxHMcRQOQ4juM4jhNAVVVVVVVVFUDHcRzHcRwXQDmO4ziO4xhAqqqqqqqqGkAcx3Ecx3EcQI7jOI7jOB5AAAAAAAAAIEBWVVVVVVUFQDqO4ziO4whAHcdxHMdxDEAAAAAAAAAQQHIcx3EcxxFA5DiO4ziOE0BWVVVVVVUVQMdxHMdxHBdAOY7jOI7jGECrqqqqqqoaQFZVVVVVVfU/HcdxHMdx/D9yHMdxHMcBQFZVVVVVVQVAOY7jOI7jCEAdx3Ecx3EMQAAAAAAAABBAchzHcRzHEUDkOI7jOI4TQFZVVVVVVRVAAAAAAAAAAAAcx3Ecx3HcPxzHcRzHcew/VVVVVVVV9T8cx3Ecx3H8P3Icx3EcxwFAVVVVVVVVBUA4juM4juMIQBzHcRzHcQxAAAAAAAAAEEBUVVVVVVX1vxrHcRzHcey/GMdxHMdx3L8AAAAAAACwPCDHcRzHcdw/IMdxHMdx7D9WVVVVVVX1PxzHcRzHcfw/chzHcRzHAUBWVVVVVVUFQFZVVVVVVQXAchzHcRzHAcAex3Ecx3H8v1dVVVVVVfW/IMdxHMdx7L8gx3Ecx3HcvwAAAAAAAMC8EMdxHMdx3D8Yx3Ecx3HsP1RVVVVVVfU/////////D8Acx3Ecx3EMwDiO4ziO4wjAVFVVVVVVBcBxHMdxHMcBwBrHcRzHcfy/VFVVVVVV9b8cx3Ecx3HsvxjHcRzHcdy/AAAAAAAAwDxUVVVVVVUVwOI4juM4jhPAcBzHcRzHEcD+//////8PwBrHcRzHcQzANo7jOI7jCMBTVVVVVVUFwHAcx3EcxwHAGMdxHMdx/L9QVVVVVVX1v6qqqqqqqhrAOI7jOI7jGMDGcRzHcRwXwFVVVVVVVRXA4ziO4ziOE8BxHMdxHMcRwP///////w/AHMdxHMdxDMA4juM4juMIwFRVVVVVVQXAAAAAAAAAIMCO4ziO4zgewBzHcRzHcRzAq6qqqqqqGsA5juM4juMYwMdxHMdxHBfAVlVVVVVVFcDkOI7jOI4TwHIcx3EcxxHAAAAAAAAAEMA=",
          "dtype": "f8",
          "shape": "10, 10"
         }
        },
        {
         "marker": {
          "color": "red",
          "size": 5
         },
         "mode": "markers",
         "name": "Datos",
         "type": "scatter3d",
         "x": {
          "bdata": "KvUXuP005r+MfxY2cSnUPwCv3pq7Sum/NJeqU/Od3T+WWWmBLBXrP7LS90grF+S/OIJk7yno2T88j5aT3g/kv8BMtslTbMo/zBFDGYFB4r8=",
          "dtype": "f8"
         },
         "y": {
          "bdata": "0KfwV7ZG7T+GRldVbkz2PwoDf4Yr5Pe/8PjTvj2Wxr9M93hBQFv9P6gu3nL0N+C/nHo8V8L1+L8gc72ViHnXP/wYp2rO7/e/EFvKf/Nhwj8=",
          "dtype": "f8"
         },
         "z": {
          "bdata": "bVmbG6vaEcAIZHhGAXIRwNpaZOc0swtAbgRRNBof/j/7fTSzvR8PwO4rq7ayFek/GEf1ttN5FEA6HJhIEkX8v5HHTCSUhxdA90O9/a36A8A=",
          "dtype": "f8"
         }
        }
       ],
       "layout": {
        "margin": {
         "b": 0,
         "l": 0,
         "r": 0,
         "t": 40
        },
        "scene": {
         "xaxis": {
          "title": {
           "text": "X1"
          }
         },
         "yaxis": {
          "title": {
           "text": "X2"
          }
         },
         "zaxis": {
          "title": {
           "text": "Y"
          }
         }
        },
        "template": {
         "data": {
          "bar": [
           {
            "error_x": {
             "color": "#2a3f5f"
            },
            "error_y": {
             "color": "#2a3f5f"
            },
            "marker": {
             "line": {
              "color": "#E5ECF6",
              "width": 0.5
             },
             "pattern": {
              "fillmode": "overlay",
              "size": 10,
              "solidity": 0.2
             }
            },
            "type": "bar"
           }
          ],
          "barpolar": [
           {
            "marker": {
             "line": {
              "color": "#E5ECF6",
              "width": 0.5
             },
             "pattern": {
              "fillmode": "overlay",
              "size": 10,
              "solidity": 0.2
             }
            },
            "type": "barpolar"
           }
          ],
          "carpet": [
           {
            "aaxis": {
             "endlinecolor": "#2a3f5f",
             "gridcolor": "white",
             "linecolor": "white",
             "minorgridcolor": "white",
             "startlinecolor": "#2a3f5f"
            },
            "baxis": {
             "endlinecolor": "#2a3f5f",
             "gridcolor": "white",
             "linecolor": "white",
             "minorgridcolor": "white",
             "startlinecolor": "#2a3f5f"
            },
            "type": "carpet"
           }
          ],
          "choropleth": [
           {
            "colorbar": {
             "outlinewidth": 0,
             "ticks": ""
            },
            "type": "choropleth"
           }
          ],
          "contour": [
           {
            "colorbar": {
             "outlinewidth": 0,
             "ticks": ""
            },
            "colorscale": [
             [
              0,
              "#0d0887"
             ],
             [
              0.1111111111111111,
              "#46039f"
             ],
             [
              0.2222222222222222,
              "#7201a8"
             ],
             [
              0.3333333333333333,
              "#9c179e"
             ],
             [
              0.4444444444444444,
              "#bd3786"
             ],
             [
              0.5555555555555556,
              "#d8576b"
             ],
             [
              0.6666666666666666,
              "#ed7953"
             ],
             [
              0.7777777777777778,
              "#fb9f3a"
             ],
             [
              0.8888888888888888,
              "#fdca26"
             ],
             [
              1,
              "#f0f921"
             ]
            ],
            "type": "contour"
           }
          ],
          "contourcarpet": [
           {
            "colorbar": {
             "outlinewidth": 0,
             "ticks": ""
            },
            "type": "contourcarpet"
           }
          ],
          "heatmap": [
           {
            "colorbar": {
             "outlinewidth": 0,
             "ticks": ""
            },
            "colorscale": [
             [
              0,
              "#0d0887"
             ],
             [
              0.1111111111111111,
              "#46039f"
             ],
             [
              0.2222222222222222,
              "#7201a8"
             ],
             [
              0.3333333333333333,
              "#9c179e"
             ],
             [
              0.4444444444444444,
              "#bd3786"
             ],
             [
              0.5555555555555556,
              "#d8576b"
             ],
             [
              0.6666666666666666,
              "#ed7953"
             ],
             [
              0.7777777777777778,
              "#fb9f3a"
             ],
             [
              0.8888888888888888,
              "#fdca26"
             ],
             [
              1,
              "#f0f921"
             ]
            ],
            "type": "heatmap"
           }
          ],
          "histogram": [
           {
            "marker": {
             "pattern": {
              "fillmode": "overlay",
              "size": 10,
              "solidity": 0.2
             }
            },
            "type": "histogram"
           }
          ],
          "histogram2d": [
           {
            "colorbar": {
             "outlinewidth": 0,
             "ticks": ""
            },
            "colorscale": [
             [
              0,
              "#0d0887"
             ],
             [
              0.1111111111111111,
              "#46039f"
             ],
             [
              0.2222222222222222,
              "#7201a8"
             ],
             [
              0.3333333333333333,
              "#9c179e"
             ],
             [
              0.4444444444444444,
              "#bd3786"
             ],
             [
              0.5555555555555556,
              "#d8576b"
             ],
             [
              0.6666666666666666,
              "#ed7953"
             ],
             [
              0.7777777777777778,
              "#fb9f3a"
             ],
             [
              0.8888888888888888,
              "#fdca26"
             ],
             [
              1,
              "#f0f921"
             ]
            ],
            "type": "histogram2d"
           }
          ],
          "histogram2dcontour": [
           {
            "colorbar": {
             "outlinewidth": 0,
             "ticks": ""
            },
            "colorscale": [
             [
              0,
              "#0d0887"
             ],
             [
              0.1111111111111111,
              "#46039f"
             ],
             [
              0.2222222222222222,
              "#7201a8"
             ],
             [
              0.3333333333333333,
              "#9c179e"
             ],
             [
              0.4444444444444444,
              "#bd3786"
             ],
             [
              0.5555555555555556,
              "#d8576b"
             ],
             [
              0.6666666666666666,
              "#ed7953"
             ],
             [
              0.7777777777777778,
              "#fb9f3a"
             ],
             [
              0.8888888888888888,
              "#fdca26"
             ],
             [
              1,
              "#f0f921"
             ]
            ],
            "type": "histogram2dcontour"
           }
          ],
          "mesh3d": [
           {
            "colorbar": {
             "outlinewidth": 0,
             "ticks": ""
            },
            "type": "mesh3d"
           }
          ],
          "parcoords": [
           {
            "line": {
             "colorbar": {
              "outlinewidth": 0,
              "ticks": ""
             }
            },
            "type": "parcoords"
           }
          ],
          "pie": [
           {
            "automargin": true,
            "type": "pie"
           }
          ],
          "scatter": [
           {
            "fillpattern": {
             "fillmode": "overlay",
             "size": 10,
             "solidity": 0.2
            },
            "type": "scatter"
           }
          ],
          "scatter3d": [
           {
            "line": {
             "colorbar": {
              "outlinewidth": 0,
              "ticks": ""
             }
            },
            "marker": {
             "colorbar": {
              "outlinewidth": 0,
              "ticks": ""
             }
            },
            "type": "scatter3d"
           }
          ],
          "scattercarpet": [
           {
            "marker": {
             "colorbar": {
              "outlinewidth": 0,
              "ticks": ""
             }
            },
            "type": "scattercarpet"
           }
          ],
          "scattergeo": [
           {
            "marker": {
             "colorbar": {
              "outlinewidth": 0,
              "ticks": ""
             }
            },
            "type": "scattergeo"
           }
          ],
          "scattergl": [
           {
            "marker": {
             "colorbar": {
              "outlinewidth": 0,
              "ticks": ""
             }
            },
            "type": "scattergl"
           }
          ],
          "scattermap": [
           {
            "marker": {
             "colorbar": {
              "outlinewidth": 0,
              "ticks": ""
             }
            },
            "type": "scattermap"
           }
          ],
          "scattermapbox": [
           {
            "marker": {
             "colorbar": {
              "outlinewidth": 0,
              "ticks": ""
             }
            },
            "type": "scattermapbox"
           }
          ],
          "scatterpolar": [
           {
            "marker": {
             "colorbar": {
              "outlinewidth": 0,
              "ticks": ""
             }
            },
            "type": "scatterpolar"
           }
          ],
          "scatterpolargl": [
           {
            "marker": {
             "colorbar": {
              "outlinewidth": 0,
              "ticks": ""
             }
            },
            "type": "scatterpolargl"
           }
          ],
          "scatterternary": [
           {
            "marker": {
             "colorbar": {
              "outlinewidth": 0,
              "ticks": ""
             }
            },
            "type": "scatterternary"
           }
          ],
          "surface": [
           {
            "colorbar": {
             "outlinewidth": 0,
             "ticks": ""
            },
            "colorscale": [
             [
              0,
              "#0d0887"
             ],
             [
              0.1111111111111111,
              "#46039f"
             ],
             [
              0.2222222222222222,
              "#7201a8"
             ],
             [
              0.3333333333333333,
              "#9c179e"
             ],
             [
              0.4444444444444444,
              "#bd3786"
             ],
             [
              0.5555555555555556,
              "#d8576b"
             ],
             [
              0.6666666666666666,
              "#ed7953"
             ],
             [
              0.7777777777777778,
              "#fb9f3a"
             ],
             [
              0.8888888888888888,
              "#fdca26"
             ],
             [
              1,
              "#f0f921"
             ]
            ],
            "type": "surface"
           }
          ],
          "table": [
           {
            "cells": {
             "fill": {
              "color": "#EBF0F8"
             },
             "line": {
              "color": "white"
             }
            },
            "header": {
             "fill": {
              "color": "#C8D4E3"
             },
             "line": {
              "color": "white"
             }
            },
            "type": "table"
           }
          ]
         },
         "layout": {
          "annotationdefaults": {
           "arrowcolor": "#2a3f5f",
           "arrowhead": 0,
           "arrowwidth": 1
          },
          "autotypenumbers": "strict",
          "coloraxis": {
           "colorbar": {
            "outlinewidth": 0,
            "ticks": ""
           }
          },
          "colorscale": {
           "diverging": [
            [
             0,
             "#8e0152"
            ],
            [
             0.1,
             "#c51b7d"
            ],
            [
             0.2,
             "#de77ae"
            ],
            [
             0.3,
             "#f1b6da"
            ],
            [
             0.4,
             "#fde0ef"
            ],
            [
             0.5,
             "#f7f7f7"
            ],
            [
             0.6,
             "#e6f5d0"
            ],
            [
             0.7,
             "#b8e186"
            ],
            [
             0.8,
             "#7fbc41"
            ],
            [
             0.9,
             "#4d9221"
            ],
            [
             1,
             "#276419"
            ]
           ],
           "sequential": [
            [
             0,
             "#0d0887"
            ],
            [
             0.1111111111111111,
             "#46039f"
            ],
            [
             0.2222222222222222,
             "#7201a8"
            ],
            [
             0.3333333333333333,
             "#9c179e"
            ],
            [
             0.4444444444444444,
             "#bd3786"
            ],
            [
             0.5555555555555556,
             "#d8576b"
            ],
            [
             0.6666666666666666,
             "#ed7953"
            ],
            [
             0.7777777777777778,
             "#fb9f3a"
            ],
            [
             0.8888888888888888,
             "#fdca26"
            ],
            [
             1,
             "#f0f921"
            ]
           ],
           "sequentialminus": [
            [
             0,
             "#0d0887"
            ],
            [
             0.1111111111111111,
             "#46039f"
            ],
            [
             0.2222222222222222,
             "#7201a8"
            ],
            [
             0.3333333333333333,
             "#9c179e"
            ],
            [
             0.4444444444444444,
             "#bd3786"
            ],
            [
             0.5555555555555556,
             "#d8576b"
            ],
            [
             0.6666666666666666,
             "#ed7953"
            ],
            [
             0.7777777777777778,
             "#fb9f3a"
            ],
            [
             0.8888888888888888,
             "#fdca26"
            ],
            [
             1,
             "#f0f921"
            ]
           ]
          },
          "colorway": [
           "#636efa",
           "#EF553B",
           "#00cc96",
           "#ab63fa",
           "#FFA15A",
           "#19d3f3",
           "#FF6692",
           "#B6E880",
           "#FF97FF",
           "#FECB52"
          ],
          "font": {
           "color": "#2a3f5f"
          },
          "geo": {
           "bgcolor": "white",
           "lakecolor": "white",
           "landcolor": "#E5ECF6",
           "showlakes": true,
           "showland": true,
           "subunitcolor": "white"
          },
          "hoverlabel": {
           "align": "left"
          },
          "hovermode": "closest",
          "mapbox": {
           "style": "light"
          },
          "paper_bgcolor": "white",
          "plot_bgcolor": "#E5ECF6",
          "polar": {
           "angularaxis": {
            "gridcolor": "white",
            "linecolor": "white",
            "ticks": ""
           },
           "bgcolor": "#E5ECF6",
           "radialaxis": {
            "gridcolor": "white",
            "linecolor": "white",
            "ticks": ""
           }
          },
          "scene": {
           "xaxis": {
            "backgroundcolor": "#E5ECF6",
            "gridcolor": "white",
            "gridwidth": 2,
            "linecolor": "white",
            "showbackground": true,
            "ticks": "",
            "zerolinecolor": "white"
           },
           "yaxis": {
            "backgroundcolor": "#E5ECF6",
            "gridcolor": "white",
            "gridwidth": 2,
            "linecolor": "white",
            "showbackground": true,
            "ticks": "",
            "zerolinecolor": "white"
           },
           "zaxis": {
            "backgroundcolor": "#E5ECF6",
            "gridcolor": "white",
            "gridwidth": 2,
            "linecolor": "white",
            "showbackground": true,
            "ticks": "",
            "zerolinecolor": "white"
           }
          },
          "shapedefaults": {
           "line": {
            "color": "#2a3f5f"
           }
          },
          "ternary": {
           "aaxis": {
            "gridcolor": "white",
            "linecolor": "white",
            "ticks": ""
           },
           "baxis": {
            "gridcolor": "white",
            "linecolor": "white",
            "ticks": ""
           },
           "bgcolor": "#E5ECF6",
           "caxis": {
            "gridcolor": "white",
            "linecolor": "white",
            "ticks": ""
           }
          },
          "title": {
           "x": 0.05
          },
          "xaxis": {
           "automargin": true,
           "gridcolor": "white",
           "linecolor": "white",
           "ticks": "",
           "title": {
            "standoff": 15
           },
           "zerolinecolor": "white",
           "zerolinewidth": 2
          },
          "yaxis": {
           "automargin": true,
           "gridcolor": "white",
           "linecolor": "white",
           "ticks": "",
           "title": {
            "standoff": 15
           },
           "zerolinecolor": "white",
           "zerolinewidth": 2
          }
         }
        },
        "title": {
         "text": "Plano + Puntos en 3D"
        }
       }
      }
     },
     "metadata": {},
     "output_type": "display_data"
    }
   ],
   "source": [
    "N = 10\n",
    "x1 = np.linspace(-1, 1, N)\n",
    "x2 = np.linspace(-2, 2, N)\n",
    "noise1=2*np.random.random(N)-1\n",
    "noise2=2*np.random.random(N)-1\n",
    "y = 2*(x1+noise1) - 3*(x2+noise2) + 0.0 \n",
    "\n",
    "N = 10\n",
    "X1, X2 = np.meshgrid(x1,x2)\n",
    "x1_points = np.random.uniform(-1, 1, N)\n",
    "x2_points = np.random.uniform(-2, 2, N)\n",
    "y_points = 2 * x1_points - 3 * x2_points + noise1  # Agregar ruido\n",
    "Y = 2*X1 - 3*X2 + 0.0\n",
    "\n",
    "\n",
    "# ** Plotly 3D Surface Plot con puntos **\n",
    "fig = go.Figure()\n",
    "\n",
    "# Agregar el plano\n",
    "fig.add_trace(go.Surface(z=Y, x=X1, y=X2, colorscale=\"viridis\", opacity=0.7))\n",
    "\n",
    "# Agregar puntos\n",
    "fig.add_trace(go.Scatter3d(x=x1_points, y=x2_points, z=y_points, \n",
    "                           mode='markers', marker=dict(color='red', size=5),\n",
    "                           name=\"Datos\"))\n",
    "\n",
    "# Configurar diseño\n",
    "fig.update_layout(title='Plano + Puntos en 3D',\n",
    "                  scene=dict(xaxis_title='X1',\n",
    "                             yaxis_title='X2',\n",
    "                             zaxis_title='Y'),\n",
    "                  margin=dict(l=0, r=0, b=0, t=40))\n",
    "\n",
    "fig.show()"
   ]
  },
  {
   "cell_type": "code",
   "execution_count": null,
   "metadata": {},
   "outputs": [],
   "source": []
  }
 ],
 "metadata": {
  "kernelspec": {
   "display_name": "Python 3",
   "language": "python",
   "name": "python3"
  },
  "language_info": {
   "codemirror_mode": {
    "name": "ipython",
    "version": 3
   },
   "file_extension": ".py",
   "mimetype": "text/x-python",
   "name": "python",
   "nbconvert_exporter": "python",
   "pygments_lexer": "ipython3",
   "version": "3.11.9"
  }
 },
 "nbformat": 4,
 "nbformat_minor": 2
}
