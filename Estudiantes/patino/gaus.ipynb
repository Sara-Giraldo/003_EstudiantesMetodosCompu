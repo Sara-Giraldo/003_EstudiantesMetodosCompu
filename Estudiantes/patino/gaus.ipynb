{
 "cells": [
  {
   "cell_type": "code",
   "execution_count": 2,
   "metadata": {},
   "outputs": [
    {
     "name": "stdout",
     "output_type": "stream",
     "text": [
      "Solución: [ 2.  3. -1.]\n"
     ]
    }
   ],
   "source": [
    "import numpy as np\n",
    "\n",
    "def gauss_jordan(A, b):\n",
    "    A = A.astype(float)  # Convertimos a flotante para evitar errores de división\n",
    "    b = b.astype(float)\n",
    "\n",
    "    # Construir la matriz aumentada [A | b]\n",
    "    n = len(A)\n",
    "    aug = np.hstack([A, b.reshape(-1, 1)])\n",
    "\n",
    "    for i in range(n):\n",
    "        # Hacer el pivote 1 dividiendo la fila\n",
    "        if aug[i, i] == 0:\n",
    "            # Intercambiar con una fila que tenga un pivote distinto de 0\n",
    "            for j in range(i+1, n):\n",
    "                if aug[j, i] != 0:\n",
    "                    aug[[i, j]] = aug[[j, i]]\n",
    "                    break\n",
    "            else:\n",
    "                raise ValueError(\"El sistema tiene infinitas soluciones o no tiene solución\")\n",
    "\n",
    "        aug[i] = aug[i] / aug[i, i]  # Hacer el pivote igual a 1\n",
    "\n",
    "        # Hacer ceros arriba y abajo del pivote\n",
    "        for j in range(n):\n",
    "            if j != i:\n",
    "                aug[j] -= aug[j, i] * aug[i]\n",
    "\n",
    "    # Extraer la solución\n",
    "    return aug[:, -1]\n",
    "\n",
    "# Ejemplo de uso\n",
    "A = np.array([[2, 1, -1],\n",
    "              [-3, -1, 2],\n",
    "              [-2, 1, 2]])\n",
    "\n",
    "b = np.array([8, -11, -3])\n",
    "\n",
    "sol = gauss_jordan(A, b)\n",
    "print(\"Solución:\", sol)"
   ]
  },
  {
   "cell_type": "code",
   "execution_count": null,
   "metadata": {},
   "outputs": [],
   "source": []
  }
 ],
 "metadata": {
  "kernelspec": {
   "display_name": "Python 3",
   "language": "python",
   "name": "python3"
  },
  "language_info": {
   "codemirror_mode": {
    "name": "ipython",
    "version": 3
   },
   "file_extension": ".py",
   "mimetype": "text/x-python",
   "name": "python",
   "nbconvert_exporter": "python",
   "pygments_lexer": "ipython3",
   "version": "3.11.9"
  }
 },
 "nbformat": 4,
 "nbformat_minor": 2
}
