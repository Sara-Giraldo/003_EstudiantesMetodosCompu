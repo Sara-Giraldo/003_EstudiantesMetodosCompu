{
  "nbformat": 4,
  "nbformat_minor": 0,
  "metadata": {
    "colab": {
      "provenance": []
    },
    "kernelspec": {
      "name": "python3",
      "display_name": "Python 3"
    },
    "language_info": {
      "name": "python"
    }
  },
  "cells": [
    {
      "cell_type": "code",
      "execution_count": null,
      "metadata": {
        "id": "U4cwRxAQUDlL"
      },
      "outputs": [],
      "source": [
        "import numpy as np\n",
        "import random"
      ]
    },
    {
      "cell_type": "code",
      "source": [
        "A=1.0*np.matrix([[3,4,7],\n",
        " [2,1,5],\n",
        "  [5,2,1]])\n",
        "c= np.matrix([[4],[2],[1]])"
      ],
      "metadata": {
        "id": "yfx4PenTUSyb"
      },
      "execution_count": null,
      "outputs": []
    },
    {
      "cell_type": "code",
      "source": [
        "c= np.matrix([[4],[2],[1]])\n",
        "M=np.c_[A,c]\n",
        "M"
      ],
      "metadata": {
        "colab": {
          "base_uri": "https://localhost:8080/"
        },
        "id": "a7tWap3cVh-B",
        "outputId": "550ef96d-8995-4d3f-edd5-de1a62f6c3bb"
      },
      "execution_count": null,
      "outputs": [
        {
          "output_type": "execute_result",
          "data": {
            "text/plain": [
              "matrix([[3., 4., 7., 4.],\n",
              "        [2., 1., 5., 2.],\n",
              "        [5., 2., 1., 1.]])"
            ]
          },
          "metadata": {},
          "execution_count": 3
        }
      ]
    },
    {
      "cell_type": "markdown",
      "source": [],
      "metadata": {
        "id": "Ni0xNE72rsZv"
      }
    },
    {
      "cell_type": "markdown",
      "source": [
        "###impletacion de la eliminacion Gaussiana"
      ],
      "metadata": {
        "id": "4s826A-Y1nxi"
      }
    },
    {
      "source": [
        "def Gauss(A,b):\n",
        "    '''\n",
        "    Resuelve sistema, Ax = b, por eliminación gaussiana.\n",
        "    '''\n",
        "    n = len(A)                   # Número de filas de A.\n",
        "    M = np.c_[A,b]               # Crear matrix aumentada.\n",
        "\n",
        "    #------- Crear matriz triangular: ---------------------------\n",
        "    for i in range(n):           # Bucle en las filas.\n",
        "\n",
        "        for j in range(i+1,n):   # Operación Ej - b*Ei -> Ej.\n",
        "            M[j] = M[j] - (M[j,i]/M[i,i])*M[i]\n",
        "\n",
        "    #------- Resolver x a partir de la matriz triangular: -------\n",
        "    x = np.zeros(n)  # Inicializar x como un array de NumPy\n",
        "    x[n-1] = M[n-1,n]/M[n-1,n-1] # Calcular x_n\n",
        "    for i in range(n-2,-1,-1):   # Calcular x_i con i=n−1,···,2,1\n",
        "        suma = 0\n",
        "        for j in range(i+1, n):\n",
        "            suma += M[i,j] * x[j]  # Calcular la suma elemento por elemento\n",
        "        x[i] = (M[i,n] - suma) / M[i,i]\n",
        "\n",
        "    return M, x   # Retornar matriz triangular y vector x."
      ],
      "cell_type": "code",
      "metadata": {
        "id": "ZRC8GBAf1JM2"
      },
      "execution_count": null,
      "outputs": []
    },
    {
      "cell_type": "code",
      "source": [
        "M_t , X= Gauss(A,c)\n",
        "print('matriz triangular:\\n', M_t)\n",
        "print('\\n')\n",
        "print('solucion: ', X)"
      ],
      "metadata": {
        "colab": {
          "base_uri": "https://localhost:8080/"
        },
        "id": "mJ4Y38Dq1Ms0",
        "outputId": "8be7df14-d6e7-4b7f-b812-d1b862f7513e"
      },
      "execution_count": null,
      "outputs": [
        {
          "output_type": "stream",
          "name": "stdout",
          "text": [
            "matriz triangular:\n",
            " [[  3.           4.           7.           4.        ]\n",
            " [  0.          -1.66666667   0.33333333  -0.66666667]\n",
            " [  0.           0.         -11.6         -3.8       ]]\n",
            "\n",
            "\n",
            "solucion:  [-0.05172414  0.46551724  0.32758621]\n"
          ]
        }
      ]
    }
  ]
}