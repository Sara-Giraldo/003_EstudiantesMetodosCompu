{
  "nbformat": 4,
  "nbformat_minor": 0,
  "metadata": {
    "colab": {
      "provenance": []
    },
    "kernelspec": {
      "name": "python3",
      "display_name": "Python 3"
    },
    "language_info": {
      "name": "python"
    }
  },
  "cells": [
    {
      "cell_type": "code",
      "source": [
        "import numpy as np\n",
        "import pandas as pd\n",
        "import sympy as sy"
      ],
      "metadata": {
        "id": "LGEtqLJlw2eb"
      },
      "execution_count": null,
      "outputs": []
    },
    {
      "cell_type": "markdown",
      "source": [
        "# Arreglos de numpy"
      ],
      "metadata": {
        "id": "wtJNu-2mLSsV"
      }
    },
    {
      "cell_type": "code",
      "source": [
        "# Generemos una arreglos ndimensaionales, ¿como podemos acceder a los elementos?\n",
        "X = np.random.randint(0, 55, (6, 6, 2))\n",
        "X"
      ],
      "metadata": {
        "colab": {
          "base_uri": "https://localhost:8080/"
        },
        "id": "97ecIcqMhbru",
        "outputId": "e62a28c4-3d1a-4f3c-b0ab-1b03dda4bffb"
      },
      "execution_count": null,
      "outputs": [
        {
          "output_type": "execute_result",
          "data": {
            "text/plain": [
              "array([[[33, 31],\n",
              "        [30, 54],\n",
              "        [10, 24],\n",
              "        [ 9, 43],\n",
              "        [ 8,  3],\n",
              "        [48, 16]],\n",
              "\n",
              "       [[24,  3],\n",
              "        [35, 54],\n",
              "        [34, 47],\n",
              "        [29,  6],\n",
              "        [52,  0],\n",
              "        [ 7, 38]],\n",
              "\n",
              "       [[23, 29],\n",
              "        [45, 29],\n",
              "        [47, 10],\n",
              "        [ 5,  3],\n",
              "        [27,  7],\n",
              "        [ 8, 51]],\n",
              "\n",
              "       [[23, 36],\n",
              "        [ 9, 24],\n",
              "        [34,  5],\n",
              "        [30, 35],\n",
              "        [40, 28],\n",
              "        [32, 13]],\n",
              "\n",
              "       [[22, 40],\n",
              "        [44, 36],\n",
              "        [27, 48],\n",
              "        [51, 18],\n",
              "        [10, 36],\n",
              "        [41, 34]],\n",
              "\n",
              "       [[50,  8],\n",
              "        [46, 42],\n",
              "        [ 5, 28],\n",
              "        [11,  2],\n",
              "        [28, 47],\n",
              "        [17,  3]]])"
            ]
          },
          "metadata": {},
          "execution_count": 17
        }
      ]
    },
    {
      "cell_type": "code",
      "source": [
        "type(X)"
      ],
      "metadata": {
        "colab": {
          "base_uri": "https://localhost:8080/"
        },
        "id": "wwqwdyekouX4",
        "outputId": "1fc34090-479f-41ce-d94d-2b1a7ea0b0f3"
      },
      "execution_count": null,
      "outputs": [
        {
          "output_type": "execute_result",
          "data": {
            "text/plain": [
              "numpy.ndarray"
            ]
          },
          "metadata": {},
          "execution_count": 8
        }
      ]
    },
    {
      "cell_type": "code",
      "source": [
        "X[:,0]"
      ],
      "metadata": {
        "colab": {
          "base_uri": "https://localhost:8080/"
        },
        "id": "UPZ4HVeSiAa_",
        "outputId": "11620909-2aa7-4c4d-9407-ca49933adab1"
      },
      "execution_count": null,
      "outputs": [
        {
          "output_type": "execute_result",
          "data": {
            "text/plain": [
              "array([15, 13, 32, 31,  8, 32])"
            ]
          },
          "metadata": {},
          "execution_count": 14
        }
      ]
    },
    {
      "cell_type": "code",
      "source": [
        "X[0][1:4]"
      ],
      "metadata": {
        "colab": {
          "base_uri": "https://localhost:8080/"
        },
        "id": "FfnQsOUDibOE",
        "outputId": "b8e65e9c-8f1f-4621-a4c9-03cd112d0201"
      },
      "execution_count": null,
      "outputs": [
        {
          "output_type": "execute_result",
          "data": {
            "text/plain": [
              "array([ 2, 24, 25])"
            ]
          },
          "metadata": {},
          "execution_count": 60
        }
      ]
    },
    {
      "cell_type": "code",
      "source": [
        "X[0, 1:4:2]"
      ],
      "metadata": {
        "colab": {
          "base_uri": "https://localhost:8080/"
        },
        "id": "vkNXHb5rizs5",
        "outputId": "4bce2cd3-2e81-4cc3-b9be-e60afc22de02"
      },
      "execution_count": null,
      "outputs": [
        {
          "output_type": "execute_result",
          "data": {
            "text/plain": [
              "array([ 2, 25])"
            ]
          },
          "metadata": {},
          "execution_count": 61
        }
      ]
    },
    {
      "cell_type": "code",
      "source": [
        "X[2::2,::2 ]"
      ],
      "metadata": {
        "colab": {
          "base_uri": "https://localhost:8080/"
        },
        "id": "KMe75hMwletS",
        "outputId": "04cb89d5-fa60-476b-ac32-75549c5902a7"
      },
      "execution_count": null,
      "outputs": [
        {
          "output_type": "execute_result",
          "data": {
            "text/plain": [
              "array([[31, 51, 44],\n",
              "       [10, 20, 28]])"
            ]
          },
          "metadata": {},
          "execution_count": 62
        }
      ]
    },
    {
      "cell_type": "code",
      "source": [
        "# Permutaciones:"
      ],
      "metadata": {
        "id": "hC_QTDyyM0T3"
      },
      "execution_count": null,
      "outputs": []
    },
    {
      "cell_type": "code",
      "source": [
        "X"
      ],
      "metadata": {
        "colab": {
          "base_uri": "https://localhost:8080/"
        },
        "id": "JYhVm8_TM2Tf",
        "outputId": "6567810f-8346-4fc2-8d2b-e28b96f0953b"
      },
      "execution_count": null,
      "outputs": [
        {
          "output_type": "execute_result",
          "data": {
            "text/plain": [
              "array([[ 3,  2, 24, 25, 37, 30],\n",
              "       [30, 30, 41, 34, 33, 30],\n",
              "       [31, 11, 51,  7, 44, 27],\n",
              "       [45, 33, 47, 42, 39, 16],\n",
              "       [10, 22, 20, 48, 28,  3],\n",
              "       [12, 13, 13, 14, 41, 14]])"
            ]
          },
          "metadata": {},
          "execution_count": 64
        }
      ]
    },
    {
      "cell_type": "code",
      "source": [
        "X[[2,1]] =X[[1,2]]"
      ],
      "metadata": {
        "id": "m-oTG0W7M4Ku"
      },
      "execution_count": null,
      "outputs": []
    },
    {
      "cell_type": "code",
      "source": [
        "X"
      ],
      "metadata": {
        "colab": {
          "base_uri": "https://localhost:8080/"
        },
        "id": "cc_qEzAeNdmX",
        "outputId": "cc85d54b-e99d-418e-bd4b-bc3c6fe2fa8f"
      },
      "execution_count": null,
      "outputs": [
        {
          "output_type": "execute_result",
          "data": {
            "text/plain": [
              "array([[ 3,  2, 24, 25, 37, 30],\n",
              "       [31, 11, 51,  7, 44, 27],\n",
              "       [30, 30, 41, 34, 33, 30],\n",
              "       [45, 33, 47, 42, 39, 16],\n",
              "       [10, 22, 20, 48, 28,  3],\n",
              "       [12, 13, 13, 14, 41, 14]])"
            ]
          },
          "metadata": {},
          "execution_count": 66
        }
      ]
    },
    {
      "cell_type": "code",
      "source": [
        "# Operaciones matriciales"
      ],
      "metadata": {
        "id": "tpPPxUiULgge"
      },
      "execution_count": null,
      "outputs": []
    },
    {
      "cell_type": "code",
      "source": [
        "X=np.array([[1,2],[3,4]])\n",
        "B=np.array([[5,2],[1,4]])\n",
        "np.linalg.inv(X)"
      ],
      "metadata": {
        "colab": {
          "base_uri": "https://localhost:8080/"
        },
        "id": "U8snX3DpLXtp",
        "outputId": "1d589db1-7834-49e4-c9e6-01abd87bfe03"
      },
      "execution_count": null,
      "outputs": [
        {
          "output_type": "execute_result",
          "data": {
            "text/plain": [
              "array([[-2. ,  1. ],\n",
              "       [ 1.5, -0.5]])"
            ]
          },
          "metadata": {},
          "execution_count": 21
        }
      ]
    },
    {
      "cell_type": "code",
      "source": [
        "X@B"
      ],
      "metadata": {
        "colab": {
          "base_uri": "https://localhost:8080/"
        },
        "id": "ctCC_zXhqSAh",
        "outputId": "5db24dd1-f48b-484e-948e-92899ba6547a"
      },
      "execution_count": null,
      "outputs": [
        {
          "output_type": "execute_result",
          "data": {
            "text/plain": [
              "array([[ 7, 10],\n",
              "       [19, 22]])"
            ]
          },
          "metadata": {},
          "execution_count": 22
        }
      ]
    },
    {
      "cell_type": "code",
      "source": [
        "X*B"
      ],
      "metadata": {
        "colab": {
          "base_uri": "https://localhost:8080/"
        },
        "id": "nexg8XaZqitZ",
        "outputId": "cdc85f7b-3c8b-41b8-d192-1b71b4bdf541"
      },
      "execution_count": null,
      "outputs": [
        {
          "output_type": "execute_result",
          "data": {
            "text/plain": [
              "array([[ 5,  4],\n",
              "       [ 3, 16]])"
            ]
          },
          "metadata": {},
          "execution_count": 23
        }
      ]
    },
    {
      "cell_type": "code",
      "source": [
        "np.linalg.det(X)"
      ],
      "metadata": {
        "colab": {
          "base_uri": "https://localhost:8080/"
        },
        "id": "XwCim3VlLfKU",
        "outputId": "f850e1d6-e27a-4403-ab1e-177e7da1eb99"
      },
      "execution_count": null,
      "outputs": [
        {
          "output_type": "execute_result",
          "data": {
            "text/plain": [
              "-2.0000000000000004"
            ]
          },
          "metadata": {},
          "execution_count": 24
        }
      ]
    },
    {
      "cell_type": "code",
      "source": [
        "np.dot([2j, 3j], [2j, 3j])\n"
      ],
      "metadata": {
        "colab": {
          "base_uri": "https://localhost:8080/"
        },
        "id": "JyXfDy4TL46a",
        "outputId": "d8072c1f-0899-4024-953b-cc0195207c5d"
      },
      "execution_count": null,
      "outputs": [
        {
          "output_type": "execute_result",
          "data": {
            "text/plain": [
              "(-13+0j)"
            ]
          },
          "metadata": {},
          "execution_count": 25
        }
      ]
    },
    {
      "cell_type": "code",
      "source": [
        "X*B"
      ],
      "metadata": {
        "colab": {
          "base_uri": "https://localhost:8080/"
        },
        "id": "WPC3XJLjMTvU",
        "outputId": "d3427792-0cfa-4631-ab68-a0a8556a9699"
      },
      "execution_count": null,
      "outputs": [
        {
          "output_type": "execute_result",
          "data": {
            "text/plain": [
              "array([[ 5,  4],\n",
              "       [ 3, 16]])"
            ]
          },
          "metadata": {},
          "execution_count": 26
        }
      ]
    },
    {
      "cell_type": "code",
      "source": [
        "X@B"
      ],
      "metadata": {
        "colab": {
          "base_uri": "https://localhost:8080/"
        },
        "id": "SXr0_TeBMf2m",
        "outputId": "ac3624e9-c6e7-4ed6-fa03-da9649146732"
      },
      "execution_count": null,
      "outputs": [
        {
          "output_type": "execute_result",
          "data": {
            "text/plain": [
              "array([[ 7, 10],\n",
              "       [19, 22]])"
            ]
          },
          "metadata": {},
          "execution_count": 27
        }
      ]
    },
    {
      "cell_type": "code",
      "source": [
        "np.matmul(X,B)"
      ],
      "metadata": {
        "colab": {
          "base_uri": "https://localhost:8080/"
        },
        "id": "Ht4V1OxIMg40",
        "outputId": "4fe0413f-26b9-4a80-9d16-de0fff4dcf93"
      },
      "execution_count": null,
      "outputs": [
        {
          "output_type": "execute_result",
          "data": {
            "text/plain": [
              "array([[ 7, 10],\n",
              "       [19, 22]])"
            ]
          },
          "metadata": {},
          "execution_count": 28
        }
      ]
    },
    {
      "cell_type": "code",
      "source": [
        "X"
      ],
      "metadata": {
        "colab": {
          "base_uri": "https://localhost:8080/"
        },
        "id": "PX6LYcVtqtEe",
        "outputId": "bf92bc97-1809-43ac-e97e-4ce4034f0ff4"
      },
      "execution_count": null,
      "outputs": [
        {
          "output_type": "execute_result",
          "data": {
            "text/plain": [
              "array([[1, 2],\n",
              "       [3, 4]])"
            ]
          },
          "metadata": {},
          "execution_count": 29
        }
      ]
    },
    {
      "cell_type": "code",
      "source": [
        "B"
      ],
      "metadata": {
        "colab": {
          "base_uri": "https://localhost:8080/"
        },
        "id": "-2eaeFlyqxEF",
        "outputId": "0ec1d0ab-50a1-4559-f89b-cbc81b3503b7"
      },
      "execution_count": null,
      "outputs": [
        {
          "output_type": "execute_result",
          "data": {
            "text/plain": [
              "array([[5, 2],\n",
              "       [1, 4]])"
            ]
          },
          "metadata": {},
          "execution_count": 30
        }
      ]
    },
    {
      "cell_type": "code",
      "source": [
        "def sumaBloque(X, B):\n",
        "  return X+B"
      ],
      "metadata": {
        "id": "YxbdRHEZq0XR"
      },
      "execution_count": null,
      "outputs": []
    },
    {
      "cell_type": "code",
      "source": [
        "sumaBloque(X, B)"
      ],
      "metadata": {
        "colab": {
          "base_uri": "https://localhost:8080/"
        },
        "id": "ak3nUm0Wr-TK",
        "outputId": "c24e94f4-2398-41f0-a096-988799dd43f9"
      },
      "execution_count": null,
      "outputs": [
        {
          "output_type": "execute_result",
          "data": {
            "text/plain": [
              "array([[6, 4],\n",
              "       [4, 8]])"
            ]
          },
          "metadata": {},
          "execution_count": 46
        }
      ]
    },
    {
      "cell_type": "code",
      "source": [
        "def suma_componente(X, B) -> float:\n",
        "  \"\"\"\n",
        "  Esta libreria realiza la suma de componentes de dos matrices\n",
        "  input: Matrix A, Matrix B\n",
        "  output: Matrix C\n",
        "  \"\"\"\n",
        "  if (np.shape(X)==np.shape(B)):\n",
        "    for i in range(0, n):\n",
        "      for j in range(0, n):\n",
        "\n",
        "        Q[i,j] = X[i,j]+B[i,j]\n",
        "\n",
        "    return Q\n",
        "  else:\n",
        "    print(\"Las dimensiones no coinciden\")\n",
        "    raise ValueError(\"Las dimensiones de A y B deberian coincidir\")"
      ],
      "metadata": {
        "id": "Jgj6YNg7rI8m"
      },
      "execution_count": null,
      "outputs": []
    },
    {
      "cell_type": "code",
      "source": [
        "suma_componente(X, B)"
      ],
      "metadata": {
        "colab": {
          "base_uri": "https://localhost:8080/"
        },
        "id": "qNl1EV1NrYK3",
        "outputId": "9a87103e-4c47-4b19-98bd-ab881f485bc7"
      },
      "execution_count": null,
      "outputs": [
        {
          "output_type": "execute_result",
          "data": {
            "text/plain": [
              "array([[6., 4.],\n",
              "       [4., 8.]])"
            ]
          },
          "metadata": {},
          "execution_count": 72
        }
      ]
    },
    {
      "cell_type": "code",
      "source": [
        "X=np.array( [[1,2],[3,4]])\n",
        "B=np.array([[5,2],[1,4]])"
      ],
      "metadata": {
        "id": "gE7h3drEr7wR"
      },
      "execution_count": null,
      "outputs": []
    },
    {
      "cell_type": "code",
      "source": [],
      "metadata": {
        "id": "N-LQ-daUsU6I"
      },
      "execution_count": null,
      "outputs": []
    },
    {
      "cell_type": "markdown",
      "source": [
        "# Algunos ejemplo\n",
        "\n",
        "```python\n",
        "import numpy as np\n",
        "\n",
        "# Producto de matrices\n",
        "A = np.array([[1, 2], [3, 4]])\n",
        "B = np.array([[5, 6], [7, 8]])\n",
        "producto = np.dot(A, B)\n",
        "\n",
        "# Determinante de una matriz\n",
        "C = np.array([[9, 2], [3, 4]])\n",
        "determinante = np.linalg.det(C)\n",
        "\n",
        "# Inversa de una matriz\n",
        "D = np.array([[2, 5], [1, 3]])\n",
        "inversa = np.linalg.inv(D)\n",
        "\n",
        "# Autovalores y autovectores\n",
        "E = np.array([[2, 0], [0, 3]])\n",
        "autovalores, autovectores = np.linalg.eig(E)\n",
        "\n",
        "# Resolución de sistemas de ecuaciones lineales\n",
        "F = np.array([[1, 1], [1, -1]])\n",
        "b = np.array([5, 1])\n",
        "solucion = np.linalg.solve(F, b)\n",
        "\n",
        "\n",
        "# Norma de un vector o matriz\n",
        "H = np.array([1, 2, 3])\n",
        "norma = np.linalg.norm(H)\n",
        "\n",
        "# Rango de una matriz\n",
        "I = np.array([[1, 2], [2, 4]])\n",
        "rango = np.linalg.matrix_rank(I)\n",
        "\n",
        "# Potencia de una matriz\n",
        "J = np.array([[1, 2], [3, 4]])\n",
        "potencia = np.linalg.matrix_power(J, 3)\n",
        "\n",
        "# Descomposición SVD\n",
        "G = np.array([[1, 2], [3, 4]])\n",
        "U, S, V = np.linalg.svd(G)\n",
        "\n",
        "\n",
        "```\n"
      ],
      "metadata": {
        "id": "wOgkVu4yL-mp"
      }
    },
    {
      "cell_type": "markdown",
      "source": [
        "# Matrices de numpy"
      ],
      "metadata": {
        "id": "iV1bdIUxLOwM"
      }
    },
    {
      "cell_type": "code",
      "source": [
        "M = np.matrix(X)\n",
        "type(M)"
      ],
      "metadata": {
        "colab": {
          "base_uri": "https://localhost:8080/"
        },
        "id": "ZoTW7RE1mDjk",
        "outputId": "aee75ebc-5df6-4595-d91d-73e7f7400fa2"
      },
      "execution_count": null,
      "outputs": [
        {
          "output_type": "execute_result",
          "data": {
            "text/plain": [
              "numpy.matrix"
            ]
          },
          "metadata": {},
          "execution_count": 77
        }
      ]
    },
    {
      "cell_type": "code",
      "source": [
        "M.T"
      ],
      "metadata": {
        "colab": {
          "base_uri": "https://localhost:8080/"
        },
        "id": "smYYFQDnmSHx",
        "outputId": "eb27d565-df42-436e-d1dc-c5c04f57e2b5"
      },
      "execution_count": null,
      "outputs": [
        {
          "output_type": "execute_result",
          "data": {
            "text/plain": [
              "matrix([[1, 3],\n",
              "        [2, 4]])"
            ]
          },
          "metadata": {},
          "execution_count": 83
        }
      ]
    },
    {
      "cell_type": "code",
      "source": [
        "M@M"
      ],
      "metadata": {
        "colab": {
          "base_uri": "https://localhost:8080/"
        },
        "id": "iyeXVJ3Htxys",
        "outputId": "11dae9c7-84e4-47a2-cf30-b490131e2dae"
      },
      "execution_count": null,
      "outputs": [
        {
          "output_type": "execute_result",
          "data": {
            "text/plain": [
              "matrix([[ 7, 10],\n",
              "        [15, 22]])"
            ]
          },
          "metadata": {},
          "execution_count": 80
        }
      ]
    },
    {
      "cell_type": "code",
      "source": [
        "M.T"
      ],
      "metadata": {
        "colab": {
          "base_uri": "https://localhost:8080/"
        },
        "id": "v0j1xF0Xnu3A",
        "outputId": "85564342-6758-47fd-af50-673c46f73374"
      },
      "execution_count": null,
      "outputs": [
        {
          "output_type": "execute_result",
          "data": {
            "text/plain": [
              "matrix([[1, 3],\n",
              "        [2, 4]])"
            ]
          },
          "metadata": {},
          "execution_count": 76
        }
      ]
    },
    {
      "cell_type": "code",
      "source": [],
      "metadata": {
        "colab": {
          "base_uri": "https://localhost:8080/"
        },
        "id": "jsRxH4R9mJFs",
        "outputId": "3af89d77-7a90-486a-80fa-e4d07a2f96bc"
      },
      "execution_count": null,
      "outputs": [
        {
          "output_type": "execute_result",
          "data": {
            "text/plain": [
              "2"
            ]
          },
          "metadata": {},
          "execution_count": 96
        }
      ]
    },
    {
      "cell_type": "code",
      "source": [
        "X[0][0]"
      ],
      "metadata": {
        "colab": {
          "base_uri": "https://localhost:8080/"
        },
        "id": "OiUGK-0xuDW7",
        "outputId": "c9eaeb66-9b8a-4e50-b600-c8044c9ef22b"
      },
      "execution_count": null,
      "outputs": [
        {
          "output_type": "execute_result",
          "data": {
            "text/plain": [
              "1"
            ]
          },
          "metadata": {},
          "execution_count": 86
        }
      ]
    },
    {
      "cell_type": "code",
      "source": [
        "np.transpose(X)"
      ],
      "metadata": {
        "colab": {
          "base_uri": "https://localhost:8080/"
        },
        "id": "I6yi4tSzmXkx",
        "outputId": "9a305dad-b071-4fff-da5a-80ff7b9e49cc"
      },
      "execution_count": null,
      "outputs": [
        {
          "output_type": "execute_result",
          "data": {
            "text/plain": [
              "array([[1, 3],\n",
              "       [2, 4]])"
            ]
          },
          "metadata": {},
          "execution_count": 78
        }
      ]
    },
    {
      "cell_type": "code",
      "source": [
        "x = sy.symbols(\"x\")"
      ],
      "metadata": {
        "id": "XQviMu9KmhP5"
      },
      "execution_count": null,
      "outputs": []
    },
    {
      "cell_type": "code",
      "source": [
        "Y = np.array([[x**2,sy.sin(x)],[x,x]])\n",
        "q = sy.Matrix(Y)\n",
        "q"
      ],
      "metadata": {
        "colab": {
          "base_uri": "https://localhost:8080/",
          "height": 58
        },
        "id": "6NQ5_urmm8P5",
        "outputId": "83b2b0df-af96-41df-c072-626bf49804d9"
      },
      "execution_count": null,
      "outputs": [
        {
          "output_type": "execute_result",
          "data": {
            "text/plain": [
              "Matrix([\n",
              "[x**2, sin(x)],\n",
              "[   x,      x]])"
            ],
            "text/latex": "$\\displaystyle \\left[\\begin{matrix}x^{2} & \\sin{\\left(x \\right)}\\\\x & x\\end{matrix}\\right]$"
          },
          "metadata": {},
          "execution_count": 102
        }
      ]
    },
    {
      "cell_type": "code",
      "source": [
        "q@q"
      ],
      "metadata": {
        "colab": {
          "base_uri": "https://localhost:8080/",
          "height": 58
        },
        "id": "1H5elz7jnEKY",
        "outputId": "9e67e064-74de-4cd9-8f84-6846508ebbce"
      },
      "execution_count": null,
      "outputs": [
        {
          "output_type": "execute_result",
          "data": {
            "text/plain": [
              "Matrix([\n",
              "[x**4 + x*sin(x), x**2*sin(x) + x*sin(x)],\n",
              "[    x**3 + x**2,        x**2 + x*sin(x)]])"
            ],
            "text/latex": "$\\displaystyle \\left[\\begin{matrix}x^{4} + x \\sin{\\left(x \\right)} & x^{2} \\sin{\\left(x \\right)} + x \\sin{\\left(x \\right)}\\\\x^{3} + x^{2} & x^{2} + x \\sin{\\left(x \\right)}\\end{matrix}\\right]$"
          },
          "metadata": {},
          "execution_count": 103
        }
      ]
    },
    {
      "cell_type": "code",
      "source": [
        "q.det()"
      ],
      "metadata": {
        "id": "owwyiJ0yN3oN",
        "colab": {
          "base_uri": "https://localhost:8080/",
          "height": 38
        },
        "outputId": "be5ede5a-349b-4d27-a86c-bf6655a6aff5"
      },
      "execution_count": null,
      "outputs": [
        {
          "output_type": "execute_result",
          "data": {
            "text/plain": [
              "x**3 - x*sin(x)"
            ],
            "text/latex": "$\\displaystyle x^{3} - x \\sin{\\left(x \\right)}$"
          },
          "metadata": {},
          "execution_count": 106
        }
      ]
    },
    {
      "cell_type": "markdown",
      "source": [
        "# Actividad:\n",
        "\n",
        "1. Construir un programa que permita multiplicar dos matrices\n",
        "\n",
        "2. Cosntruir un programa que permita construir una regresion lineal simple empleando lo que sigue:\n",
        "\n",
        "3. Construir un programa que permita calcular una regresion bidimensional y hacer su representación .\n",
        "\n",
        "\n",
        "Operaciones matricial con regresión lineal.\n",
        "\n",
        "Cuando se desea hacer una regresion lineal multivariada, existen diferentes formas de realizar la regresión, una de ellas es encontrar el error cuadrático medio y miniminzar el conjunto de parámetros de la regresión emplando algún metodo de minimización, otra forma es encontrar la expresión analítica en forma matricial para enoncontrar el conjunto de parametros de la regresión. En este último caso, la regresion lineal viene dada por la siguiente expresion generalizada:\n",
        "\n",
        "\n",
        "- $\\Theta = (X^T X)^{-1} X^T y$\n",
        "\n",
        "donte $\\Theta$ es la matriz de parametros asociados a la regresión lineal, X la matriz de características y y los valos esperados, así, si tenemos una conjunto de datos en N dimensiones la recta, plano o hyperplano puede ser calculado como:\n",
        "\n",
        "$Y=\\Theta^T X$\n",
        "\n",
        "\n",
        "En el caso de dos dimensiones, tenemos lo siguiente, Supongamos que X, y Y presentan un comportamiento lineal, y vienen dados por:\n",
        "\n",
        "\n",
        "- Sea $\\vec{X}=x^1, x^2, x^3, x^4, ..., x^m$\n",
        "- Sea $\\vec{Y}=y^1, y^2, y^3, y^4, ..., y^m$\n",
        "\n",
        "Para determinar la ecuacion de la recta, hay que conocer los párametros $\\theta_0 $, $\\theta_1$, que cumplen que :   $y^{i} = \\theta_1 x^{i} + \\theta_0$ la anterior expresion puede ser escrita como:\n",
        "\n",
        "\\begin{equation}\n",
        "\\begin{bmatrix}\n",
        "y^{1}\\\\\n",
        "y^{2}\\\\\n",
        "\\vdots\\\\\n",
        "y^{m}\\\\\n",
        "\\end{bmatrix}=\n",
        "\\begin{bmatrix}\n",
        "\\theta_0 & \\theta_1 \\\\\n",
        "\\end{bmatrix}\n",
        "\\begin{bmatrix}\n",
        "1 & 1 & \\cdots & 1 \\\\\n",
        "x_1^{1} & x_1^{2} & \\cdots & x_1^{m} \\\\\n",
        "\\end{bmatrix}\n",
        "\\end{equation}\n",
        "\n",
        "\n",
        "Para determinar la matriz de theta entonces se puede aplicar la ecuación:\n",
        "\n",
        "- $\\Theta = (X^T X)^{-1} X^T y$\n",
        "\n",
        "donde:\n",
        "\\begin{equation}\n",
        "X=\n",
        "\\begin{bmatrix}\n",
        "1 & x_1^{1} \\\\\n",
        "1 & x_1^{2} \\\\\n",
        "\\vdots & \\vdots \\\\\n",
        "1 & x_1^{m}\n",
        "\\end{bmatrix}\n",
        "\\end{equation}\n",
        "\n",
        "y\n",
        "\n",
        "\n",
        "\\begin{equation}\n",
        "y=\n",
        "\\begin{bmatrix}\n",
        "y^1 \\\\\n",
        "y^2 \\\\\n",
        "\\vdots\\\\\n",
        "y^m\n",
        "\\end{bmatrix}\n",
        "\\end{equation}\n",
        "\n",
        "Su tarea será construir un programa que realice la regresión lineal para los siguientes puntos:\n",
        "```python\n",
        "N = 10\n",
        "x1 = np.linspace(0, 10, N)\n",
        "noise=2*np.random.random(N)-1\n",
        "y = 0.9*x1 + noise\n",
        "```\n",
        "\n",
        "\n",
        "\n",
        "Generalice para el siguiente problema bidimensional:\n",
        "\n",
        "\n",
        "```python\n",
        "N = 10\n",
        "x1 = np.linspace(-1, 1, N)\n",
        "x2 = np.linspace(-2, 2, N)\n",
        "noise1=2*np.random.random(N)-1\n",
        "noise2=2*np.random.random(N)-1\n",
        "y = 2*(x1+noise1) - 3*(x2+noise2) + 0.0 #+ 4*np.random.random(100)\n",
        "\n",
        "N = 10\n",
        "X1, X2 = np.meshgrid(x1,x2)\n",
        "Y = 2*X1 - 3*X2 + 0.0\n",
        "fig, ax = plt.subplots(subplot_kw={\"projection\": \"3d\"})\n",
        "surf = ax.plot_surface(X1, X2, Y)\n",
        "#scatter = ax.scatter(x1, x2, y,\"-\")\n",
        "```\n",
        "\n",
        "\n",
        "\n",
        "4. Construir un programa que permita realizar eliminacion de Gauss- Jordan de una matriz\n",
        "\n"
      ],
      "metadata": {
        "id": "k9jPDzNSjgnZ"
      }
    },
    {
      "cell_type": "markdown",
      "source": [
        "## inciso 2"
      ],
      "metadata": {
        "id": "M6X_CNNml9H8"
      }
    },
    {
      "cell_type": "code",
      "source": [
        "import numpy as np\n",
        "import random\n",
        "import matplotlib.pyplot as plt\n",
        "\n",
        "# Generar datos de la imagen\n",
        "N = 10\n",
        "x1 = np.linspace(0, 10, N)\n",
        "noise = 2 * np.random.random(N) - 1  # Ruido aleatorio entre -1 y 1\n",
        "y = 0.9 * x1 + noise  # Generar valores de y con ruido\n",
        "\n",
        "# Reformatear X para regresión (agregar columna de unos)\n",
        "X = np.c_[np.ones(N), x1]  # Matriz de diseño con término independiente\n",
        "print(X)\n",
        "# Calcular parámetros de regresión lineal usando ecuación normal\n",
        "theta = np.linalg.inv(X.T @ X) @ X.T @ y\n",
        "\n",
        "# Predicciones del modelo\n",
        "x_pred = np.linspace(0, 10, 100)  # Valores continuos para la línea\n",
        "X_pred = np.c_[np.ones(100), x_pred]  # Agregar columna de unos\n",
        "y_pred = X_pred @ theta  # Predecir valores\n",
        "\n",
        "# Graficar los puntos originales y la regresión\n",
        "plt.scatter(x1, y, color=\"blue\", label=\"Datos originales\")\n",
        "plt.plot(x_pred, y_pred, color=\"red\", label=\"Regresión lineal\")\n",
        "plt.xlabel(\"x1\")\n",
        "plt.ylabel(\"y\")\n",
        "plt.legend()\n",
        "plt.title(\"Regresión Lineal sobre los puntos dados\")\n",
        "plt.grid()\n",
        "plt.show()\n",
        "\n",
        "# Mostrar los coeficientes obtenidos\n",
        "print(f\"Coeficientes obtenidos (Theta): {theta}\")\n"
      ],
      "metadata": {
        "colab": {
          "base_uri": "https://localhost:8080/",
          "height": 671
        },
        "id": "IoPbschcmmPR",
        "outputId": "b42d4791-24bb-433f-f7f4-e28b841f3f88"
      },
      "execution_count": null,
      "outputs": [
        {
          "output_type": "stream",
          "name": "stdout",
          "text": [
            "[[ 1.          0.        ]\n",
            " [ 1.          1.11111111]\n",
            " [ 1.          2.22222222]\n",
            " [ 1.          3.33333333]\n",
            " [ 1.          4.44444444]\n",
            " [ 1.          5.55555556]\n",
            " [ 1.          6.66666667]\n",
            " [ 1.          7.77777778]\n",
            " [ 1.          8.88888889]\n",
            " [ 1.         10.        ]]\n"
          ]
        },
        {
          "output_type": "display_data",
          "data": {
            "text/plain": [
              "<Figure size 640x480 with 1 Axes>"
            ],
            "image/png": "[encoded data removed]"
          },
          "metadata": {}
        },
        {
          "output_type": "stream",
          "name": "stdout",
          "text": [
            "Coeficientes obtenidos (Theta): [0.01115272 0.89593758]\n"
          ]
        }
      ]
    },
    {
      "cell_type": "markdown",
      "source": [
        "#inciso 3\n"
      ],
      "metadata": {
        "id": "gF_w9NFypD0Z"
      }
    },
    {
      "cell_type": "code",
      "source": [
        "from mpl_toolkits.mplot3d import Axes3D\n",
        "\n",
        "# Generación de datos\n",
        "N = 10\n",
        "x1 = np.linspace(-1, 1, N)\n",
        "x2 = np.linspace(-2, 2, N)\n",
        "\n",
        "# Añadir ruido aleatorio\n",
        "noise1 = 2 * np.random.random(N) - 1\n",
        "noise2 = 2 * np.random.random(N) - 1\n",
        "\n",
        "# Ecuación de la superficie con ruido\n",
        "y = 2 * (x1 + noise1) - 3 * (x2 + noise2) + 0.0\n",
        "\n",
        "X = np.c_[np.ones(N), x1, x2]\n",
        "\n",
        "theta = np.linalg.pinv(X.T @ X) @ X.T @ y\n",
        "\n",
        "# malla\n",
        "X1, X2 = np.meshgrid(np.linspace(-1, 1, 20), np.linspace(-2, 2, 20))\n",
        "Y_pred = theta[0] + theta[1] * X1 + theta[2] * X2  # Plano de regresión\n",
        "\n",
        "fig = plt.figure(figsize=(10, 6))\n",
        "ax = fig.add_subplot(111, projection='3d')\n",
        "\n",
        "# Graficar puntos originales\n",
        "ax.scatter(x1, x2, y, color=\"red\", label=\"Datos originales\")\n",
        "\n",
        "# Graficar superficie de regresión\n",
        "ax.plot_surface(X1, X2, Y_pred, alpha=0.5, cmap='viridis')\n",
        "\n",
        "ax.set_xlabel(\"x1\")\n",
        "ax.set_ylabel(\"x2\")\n",
        "ax.set_zlabel(\"y\")\n",
        "ax.set_title(\"Regresión Lineal Multivariable\")\n",
        "ax.legend()\n",
        "plt.show()\n",
        "\n",
        "# Imprimir los coeficientes obtenidos\n",
        "print(f\"Coeficientes obtenidos (Theta): {theta}\")\n"
      ],
      "metadata": {
        "colab": {
          "base_uri": "https://localhost:8080/",
          "height": 542
        },
        "id": "0nRKeOgVpHrr",
        "outputId": "04118ab1-c863-41d3-fba0-ddd0e24176f3"
      },
      "execution_count": null,
      "outputs": [
        {
          "output_type": "display_data",
          "data": {
            "text/plain": [
              "<Figure size 1000x600 with 1 Axes>"
            ],
            "image/png": "[encoded data removed]"
          },
          "metadata": {}
        },
        {
          "output_type": "stream",
          "name": "stdout",
          "text": [
            "Coeficientes obtenidos (Theta): [ 0.00755678 -0.91586853 -1.83173706]\n"
          ]
        }
      ]
    },
    {
      "cell_type": "code",
      "source": [
        "N = 10\n",
        "x1 = np.linspace(-1, 1, N)\n",
        "x2 = np.linspace(-2, 2, N)\n",
        "\n",
        "noise1 = 2 * np.random.random(N) - 1\n",
        "noise2 = 2 * np.random.random(N) - 1\n",
        "\n",
        "y = 2 * (x1 + noise1) - 3 * (x2 + noise2)\n",
        "\n",
        "X = np.c_[np.ones(N), x1, x2]\n",
        "print(np.linalg.pinv(X))\n",
        "\n"
      ],
      "metadata": {
        "colab": {
          "base_uri": "https://localhost:8080/"
        },
        "id": "r8Qd14ZOiqGx",
        "outputId": "631fe46e-dd4c-4d6b-b4b6-e988f6267125"
      },
      "execution_count": null,
      "outputs": [
        {
          "output_type": "stream",
          "name": "stdout",
          "text": [
            "[[ 0.1         0.1         0.1         0.1         0.1         0.1\n",
            "   0.1         0.1         0.1         0.1       ]\n",
            " [-0.04909091 -0.03818182 -0.02727273 -0.01636364 -0.00545455  0.00545455\n",
            "   0.01636364  0.02727273  0.03818182  0.04909091]\n",
            " [-0.09818182 -0.07636364 -0.05454545 -0.03272727 -0.01090909  0.01090909\n",
            "   0.03272727  0.05454545  0.07636364  0.09818182]]\n"
          ]
        }
      ]
    },
    {
      "cell_type": "markdown",
      "source": [
        "#inciso 1"
      ],
      "metadata": {
        "id": "bB5lPyOUpL5w"
      }
    },
    {
      "source": [
        "# Use np.random.randint() to generate a 3x3 array of random integers\n",
        "A = np.random.randint(0, 10, size=(2, 2))\n",
        "B = np.random.randint(0, 10, size=(2, 2))\n",
        "\n",
        "np.matmul(A,B)"
      ],
      "cell_type": "code",
      "metadata": {
        "id": "sW0fMhSmLil5",
        "outputId": "ea03232a-a0ab-482b-a022-02ff7c20b81b",
        "colab": {
          "base_uri": "https://localhost:8080/"
        }
      },
      "execution_count": null,
      "outputs": [
        {
          "output_type": "execute_result",
          "data": {
            "text/plain": [
              "array([[37,  0],\n",
              "       [64,  0]])"
            ]
          },
          "metadata": {},
          "execution_count": 18
        }
      ]
    },
    {
      "cell_type": "code",
      "source": [
        "def PP(v,w): ##FUNCION PARA CALCULAR EL PRODUCTO PUNTO\n",
        "  SUM=0\n",
        "  for i in range(len(v)):\n",
        "    SUM+=v[i]*w[i]\n",
        "  return SUM\n",
        "\n",
        "def mat_mul(A,B):\n",
        "\n",
        "  fil_A,col_A= np.shape(A)\n",
        "  fil_B,col_B= np.shape(B)\n",
        "\n",
        "  if (col_A!=fil_B):\n",
        "    print(\"Las dimensiones no coinciden\")\n",
        "    raise ValueError(\"Las dimensiones de A y B deberian coincidir\")\n",
        "\n",
        "  C= np.zeros((fil_A,col_B))\n",
        "\n",
        "  for i in range(fil_A):\n",
        "    for j in range(col_B):\n",
        "      C[i][j]= PP(A[i],B[:,j])\n",
        "\n",
        "  return C"
      ],
      "metadata": {
        "id": "NenXp2Esr_gx"
      },
      "execution_count": null,
      "outputs": []
    },
    {
      "cell_type": "code",
      "source": [
        "mat_mul(A,B)"
      ],
      "metadata": {
        "colab": {
          "base_uri": "https://localhost:8080/"
        },
        "id": "PiCuvLZmORAV",
        "outputId": "8452625e-99d0-42f5-c467-1e072971c2fe"
      },
      "execution_count": null,
      "outputs": [
        {
          "output_type": "execute_result",
          "data": {
            "text/plain": [
              "array([[37.,  0.],\n",
              "       [64.,  0.]])"
            ]
          },
          "metadata": {},
          "execution_count": 20
        }
      ]
    },
    {
      "cell_type": "markdown",
      "source": [
        "##Inciso 4"
      ],
      "metadata": {
        "id": "Z4OUptG1t-d9"
      }
    },
    {
      "cell_type": "code",
      "source": [
        "import numpy as np\n",
        "\n",
        "def gauss_jordan(A, b):\n",
        "    A = A.astype(float)  # Convertimos a flotante para evitar errores de división\n",
        "    b = b.astype(float)\n",
        "\n",
        "    # Construir la matriz aumentada [A | b]\n",
        "    n = len(A)\n",
        "    aug = np.hstack([A, b.reshape(-1, 1)])\n",
        "\n",
        "    for i in range(n):\n",
        "        # Hacer el pivote 1 dividiendo la fila\n",
        "        if aug[i, i] == 0:\n",
        "            # Intercambiar con una fila que tenga un pivote distinto de 0\n",
        "            for j in range(i+1, n):\n",
        "                if aug[j, i] != 0:\n",
        "                    aug[[i, j]] = aug[[j, i]]\n",
        "                    break\n",
        "            else:\n",
        "                raise ValueError(\"El sistema tiene infinitas soluciones o no tiene solución\")\n",
        "\n",
        "        aug[i] = aug[i] / aug[i, i]  # Hacer el pivote igual a 1\n",
        "\n",
        "        # Hacer ceros arriba y abajo del pivote\n",
        "        for j in range(n):\n",
        "            if j != i:\n",
        "                aug[j] -= aug[j, i] * aug[i]\n",
        "\n",
        "    # Extraer la solución\n",
        "    return aug[:, -1]\n",
        "\n",
        "# Ejemplo de uso\n",
        "A = np.array([[2, 1, -1],\n",
        "              [-3, -1, 2],\n",
        "              [-2, 1, 2]])\n",
        "\n",
        "b = np.array([8, -11, -3])\n",
        "\n",
        "sol = gauss_jordan(A, b)\n",
        "print(\"Solución:\", sol)\n"
      ],
      "metadata": {
        "colab": {
          "base_uri": "https://localhost:8080/"
        },
        "id": "rL8spMVvt9ue",
        "outputId": "6c0a283d-aba9-4ff1-e9c4-5be4ab70297e"
      },
      "execution_count": null,
      "outputs": [
        {
          "output_type": "stream",
          "name": "stdout",
          "text": [
            "Solución: [ 2.  3. -1.]\n"
          ]
        }
      ]
    }
  ]
}