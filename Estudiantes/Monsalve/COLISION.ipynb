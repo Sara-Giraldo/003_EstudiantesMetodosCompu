{
  "nbformat": 4,
  "nbformat_minor": 0,
  "metadata": {
    "colab": {
      "provenance": []
    },
    "kernelspec": {
      "name": "python3",
      "display_name": "Python 3"
    },
    "language_info": {
      "name": "python"
    }
  },
  "cells": [
    {
      "cell_type": "markdown",
      "source": [
        "dada una masa m1 con v1, y una masa m2 con v2, cuantas colisiones colisiones se presentan en el sistema"
      ],
      "metadata": {
        "id": "qF7P2DWKWXpF"
      }
    },
    {
      "cell_type": "code",
      "source": [
        "#constantes\n",
        "from tqdm import tqdm\n",
        "import numpy as np\n",
        "\n",
        "#constantes\n",
        "m1= 1 #kg\n",
        "m2= 10\n",
        "v1=0\n",
        "v2= -10 #m/s\n",
        "# funciones de nuevas velocidades\n",
        "def w1(v1,v2):\n",
        "  return ((m1-m2)*v1+2*m2*v2)/(m1+m2)\n",
        "\n",
        "def w2(v2,v1):\n",
        "  return ((m2-m1)*v2+2*m1*v1)/(m1+m2)\n",
        "\n",
        "k=0\n",
        "\n",
        "while True:\n",
        "\n",
        "  v1p= w1(v1,v2)      ##colision entre los bloques\n",
        "  v2p= w2(v2,v1)\n",
        "\n",
        "  k+=1\n",
        "  v1=v1p\n",
        "  v2=v2p\n",
        "\n",
        "  if (v1<0 ):   #colision con la pared\n",
        "    v1=v1*-1\n",
        "    k+=1\n",
        "\n",
        "  if (v2>0 and abs(v2)>abs(v1)):\n",
        "    break\n",
        "\n",
        "print(f\"el numero de colisiones es {k}\")"
      ],
      "metadata": {
        "colab": {
          "base_uri": "https://localhost:8080/"
        },
        "id": "H9i6z7v3dkhA",
        "outputId": "90f01826-b5de-4ced-a4a5-41cee2b5a1c7"
      },
      "execution_count": null,
      "outputs": [
        {
          "output_type": "stream",
          "name": "stdout",
          "text": [
            "el numero de colisiones es 10\n"
          ]
        }
      ]
    }
  ]
}