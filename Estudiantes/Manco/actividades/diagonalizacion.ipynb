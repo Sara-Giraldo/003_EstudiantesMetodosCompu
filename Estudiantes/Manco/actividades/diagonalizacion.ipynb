{
 "cells": [
  {
   "cell_type": "markdown",
   "metadata": {},
   "source": [
    "\n",
    "\n",
    "\n",
    "3. **Diagonalización**.\n",
    "\n",
    "Se sabe que un sistema físico es gobernado por las ecuaciones,\n",
    "\n",
    "\n",
    "\n",
    "$$\n",
    "\\begin{matrix}\n",
    "x' &=& 2x&-y&+z, \\\\\n",
    "y' &=&   &3y&-1z, \\\\\n",
    "z' &=& 2x&+y&+3z,\n",
    "\\end{matrix}\n",
    "$$\n",
    "\n",
    "donde $x',y',z'$ son las derivadas, en forma vectorial esto se puede representar como $\\mathbf{r}'=A\\mathbf{r}$ que tiene solución analítica general, $\\mathbf{r} = e^{At} \\mathbf{r}(0)$.<br>\n",
    "a) Diagonalize $A$.<br>\n",
    "\n",
    "\n"
   ]
  },
  {
   "cell_type": "code",
   "execution_count": 2,
   "metadata": {},
   "outputs": [],
   "source": [
    "import sympy as sp\n",
    "import numpy as np"
   ]
  },
  {
   "cell_type": "code",
   "execution_count": 3,
   "metadata": {},
   "outputs": [
    {
     "data": {
      "text/latex": [
       "$\\displaystyle \\left[\\begin{matrix}x\\\\y\\\\z\\end{matrix}\\right]$"
      ],
      "text/plain": [
       "Matrix([\n",
       "[x],\n",
       "[y],\n",
       "[z]])"
      ]
     },
     "metadata": {},
     "output_type": "display_data"
    },
    {
     "data": {
      "text/latex": [
       "$\\displaystyle \\left[\\begin{matrix}2 & -1 & 1\\\\0 & 3 & -1\\\\2 & 1 & 3\\end{matrix}\\right]$"
      ],
      "text/plain": [
       "Matrix([\n",
       "[2, -1,  1],\n",
       "[0,  3, -1],\n",
       "[2,  1,  3]])"
      ]
     },
     "metadata": {},
     "output_type": "display_data"
    },
    {
     "data": {
      "text/latex": [
       "$\\displaystyle \\left[\\begin{matrix}2 x - y + z\\\\3 y - z\\\\2 x + y + 3 z\\end{matrix}\\right]$"
      ],
      "text/plain": [
       "Matrix([\n",
       "[  2*x - y + z],\n",
       "[      3*y - z],\n",
       "[2*x + y + 3*z]])"
      ]
     },
     "execution_count": 3,
     "metadata": {},
     "output_type": "execute_result"
    }
   ],
   "source": [
    "x, y, z = sp.symbols(\"x,y,z\")\n",
    "\n",
    "A = sp.Matrix([[2, -1, 1], [0, 3, -1],[2, 1, 3]])\n",
    "r = sp.Matrix([x,y,z])\n",
    "display(r)\n",
    "display(A)\n",
    "r_prima = A@r\n",
    "r_prima"
   ]
  },
  {
   "cell_type": "code",
   "execution_count": 4,
   "metadata": {},
   "outputs": [
    {
     "name": "stdout",
     "output_type": "stream",
     "text": [
      "16\n",
      "False\n"
     ]
    },
    {
     "data": {
      "text/latex": [
       "$\\displaystyle \\left[\\begin{matrix}2 - λ & -1 & 1\\\\0 & 3 - λ & -1\\\\2 & 1 & 3 - λ\\end{matrix}\\right]$"
      ],
      "text/plain": [
       "Matrix([\n",
       "[2 - λ,    -1,     1],\n",
       "[    0, 3 - λ,    -1],\n",
       "[    2,     1, 3 - λ]])"
      ]
     },
     "execution_count": 4,
     "metadata": {},
     "output_type": "execute_result"
    }
   ],
   "source": [
    "ld = sp.Symbol('λ')\n",
    "I = sp.eye(3)\n",
    "\n",
    "print(A.det())\n",
    "print(A.is_diagonalizable())\n",
    "M = A - ld*I\n",
    "M"
   ]
  },
  {
   "cell_type": "code",
   "execution_count": 5,
   "metadata": {},
   "outputs": [
    {
     "data": {
      "text/latex": [
       "$\\displaystyle - λ^{3} + 8 λ^{2} - 20 λ + 16$"
      ],
      "text/plain": [
       "-λ**3 + 8*λ**2 - 20*λ + 16"
      ]
     },
     "metadata": {},
     "output_type": "display_data"
    },
    {
     "data": {
      "text/latex": [
       "$\\displaystyle \\left[\\begin{matrix}-1\\\\1\\\\1\\end{matrix}\\right]$"
      ],
      "text/plain": [
       "Matrix([\n",
       "[-1],\n",
       "[ 1],\n",
       "[ 1]])"
      ]
     },
     "metadata": {},
     "output_type": "display_data"
    },
    {
     "data": {
      "text/latex": [
       "$\\displaystyle \\left[\\begin{matrix}1\\\\-1\\\\1\\end{matrix}\\right]$"
      ],
      "text/plain": [
       "Matrix([\n",
       "[ 1],\n",
       "[-1],\n",
       "[ 1]])"
      ]
     },
     "metadata": {},
     "output_type": "display_data"
    },
    {
     "name": "stdout",
     "output_type": "stream",
     "text": [
      "{4: 1, 2: 2} [(2, 2, [Matrix([\n",
      "[-1],\n",
      "[ 1],\n",
      "[ 1]])]), (4, 1, [Matrix([\n",
      "[ 1],\n",
      "[-1],\n",
      "[ 1]])])]\n"
     ]
    }
   ],
   "source": [
    "det = sp.det(M)\n",
    "display(det)\n",
    "eigenvalues = A.eigenvals()\n",
    "eigenvectors = A.eigenvects()\n",
    "display( eigenvectors[0][2][0] )\n",
    "display( eigenvectors[1][2][0] )\n",
    "print(eigenvalues, eigenvectors)"
   ]
  },
  {
   "cell_type": "code",
   "execution_count": 7,
   "metadata": {},
   "outputs": [
    {
     "data": {
      "text/latex": [
       "$\\displaystyle \\left[\\begin{matrix}-1 & 0 & 1\\\\1 & 1 & -1\\\\1 & 0 & 1\\end{matrix}\\right]$"
      ],
      "text/plain": [
       "Matrix([\n",
       "[-1, 0,  1],\n",
       "[ 1, 1, -1],\n",
       "[ 1, 0,  1]])"
      ]
     },
     "metadata": {},
     "output_type": "display_data"
    },
    {
     "data": {
      "text/latex": [
       "$\\displaystyle \\left[\\begin{matrix}2 & 1 & 0\\\\0 & 2 & 0\\\\0 & 0 & 4\\end{matrix}\\right]$"
      ],
      "text/plain": [
       "Matrix([\n",
       "[2, 1, 0],\n",
       "[0, 2, 0],\n",
       "[0, 0, 4]])"
      ]
     },
     "metadata": {},
     "output_type": "display_data"
    },
    {
     "data": {
      "text/latex": [
       "$\\displaystyle \\left[\\begin{matrix}- 300 t e^{2 t} + 200 e^{4 t} - 100 e^{2 t}\\\\300 t e^{2 t} - 200 e^{4 t} + 400 e^{2 t}\\\\300 t e^{2 t} + 200 e^{4 t} + 100 e^{2 t}\\end{matrix}\\right]$"
      ],
      "text/plain": [
       "Matrix([\n",
       "[-300*t*exp(2*t) + 200*exp(4*t) - 100*exp(2*t)],\n",
       "[ 300*t*exp(2*t) - 200*exp(4*t) + 400*exp(2*t)],\n",
       "[ 300*t*exp(2*t) + 200*exp(4*t) + 100*exp(2*t)]])"
      ]
     },
     "metadata": {},
     "output_type": "display_data"
    }
   ],
   "source": [
    "r0 = np.array([100,200,300])\n",
    "t=sp.Symbol('t')\n",
    "\n",
    "C, D = A.jordan_form()\n",
    "display(C)\n",
    "display(D)\n",
    "\n",
    "# C, D = A.diagonalize()\n",
    "\n",
    "D_exp = (D*t).exp()\n",
    "\n",
    "A_exp_jordan = C @ D_exp@ C.inv()\n",
    "\n",
    "r_t_jordan = A_exp_jordan @ r0\n",
    "\n",
    "display(sp.Matrix(r_t_jordan))\n"
   ]
  }
 ],
 "metadata": {
  "kernelspec": {
   "display_name": "env",
   "language": "python",
   "name": "python3"
  },
  "language_info": {
   "codemirror_mode": {
    "name": "ipython",
    "version": 3
   },
   "file_extension": ".py",
   "mimetype": "text/x-python",
   "name": "python",
   "nbconvert_exporter": "python",
   "pygments_lexer": "ipython3",
   "version": "3.13.2"
  }
 },
 "nbformat": 4,
 "nbformat_minor": 2
}
